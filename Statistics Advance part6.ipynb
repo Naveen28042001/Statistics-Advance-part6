{
 "cells": [
  {
   "cell_type": "code",
   "execution_count": null,
   "id": "eb35a46f-44ba-4f71-bfa6-c4865bf29e7a",
   "metadata": {},
   "outputs": [],
   "source": [
    "Q1. Explain the assumptions required to use ANOVA and provide examples of violations that could impact\n",
    "the validity of the results.\n",
    "\n",
    "Analysis of Variance (ANOVA) is a statistical method used to compare means across multiple groups. \n",
    "However, ANOVA relies on several key assumptions for its validity. \n",
    "Violating these assumptions can lead to inaccurate or misleading results. \n",
    "The main assumptions for ANOVA are:\n",
    "Normality: \n",
    "    The dependent variable should follow a normal distribution within each group. This assumption is more critical with smaller sample sizes but tends to be robust with larger samples due to the Central Limit Theorem.\n",
    "    Violation Example: If the data in one or more groups significantly deviates from a normal distribution, it can affect the ANOVA results. Outliers or skewed distributions may impact the test's accuracy.\n",
    "Homogeneity of Variance (Homoscedasticity): \n",
    "    The variance of the dependent variable should be approximately equal across all groups. Homogeneity of variance ensures that the groups being compared have similar levels of variability.\n",
    "    Violation Example: If one group has much larger variability than another, it can lead to unequal variances. This can result in certain groups having more influence on the overall analysis, potentially leading to incorrect conclusions.\n",
    "Independence of Observations: \n",
    "    Observations within each group should be independent of each other. This means that the value of one observation should not be influenced by or related to the value of another observation.\n",
    "    Violation Example: If data points within a group are somehow related or dependent, it can lead to pseudoreplication. For example, repeated measurements on the same subjects or correlated data violate the assumption of independence.\n",
    "Homogeneity of Regression Slopes (Interaction in the case of ANCOVA): \n",
    "    In the context of ANOVA with covariates (ANCOVA), the relationship between the covariate and the dependent variable should be consistent across all groups.\n",
    "    Violation Example: If the interaction between the covariate and the grouping variable is significant, it suggests that the slopes of the regression lines are not equal across groups. This violates the assumption, and the ANCOVA results may be affected.\n",
    "    \n",
    "It's essential to note that ANOVA is relatively robust to violations of the normality assumption, especially with larger sample sizes. However, violations of homogeneity of variance can have more serious consequences. If assumptions are seriously violated, alternative methods like Welch's ANOVA or non-parametric tests may be more appropriate.\n",
    "Researchers should always check for these assumptions before interpreting the results of ANOVA and consider alternative methods if the assumptions are not met. Graphical methods (e.g., residual plots) and statistical tests (e.g., Levene's test for homogeneity of variance) can be used to assess these assumptions."
   ]
  },
  {
   "cell_type": "code",
   "execution_count": null,
   "id": "4f22db94-ee1b-44f8-b832-925961eb7b70",
   "metadata": {},
   "outputs": [],
   "source": [
    "Q2. What are the three types of ANOVA, and in what situations would each be used?\n",
    "\n",
    "Analysis of Variance (ANOVA) can be categorized into three main types based on the number of independent variables and their levels. These are:\n",
    "\n",
    "1.One-Way ANOVA:\n",
    "  Use Case: One-Way ANOVA is used when there is one independent variable (factor) with more than two levels (groups).\n",
    "  Example: Suppose you want to compare the mean scores of three different teaching methods (A, B, and C) to determine if they have a statistically significant impact on student performance. The independent variable is the teaching method, and there are three levels (A, B, C).\n",
    "2.Two-Way ANOVA:\n",
    "  Use Case: Two-Way ANOVA is used when there are two independent variables, and each variable may have multiple levels.\n",
    "  Example: Consider a study examining the effects of both drug dosage (low, medium, high) and gender (male, female) on a medical outcome. In this case, there are two independent variables (dosage and gender), and each has multiple levels.\n",
    "3.Repeated Measures ANOVA:\n",
    "  Use Case: Repeated Measures ANOVA is used when the same subjects are used for each treatment (repeated measurements), and it is often applied to assess changes over time or under different conditions.\n",
    "  Example: Suppose you measure the blood pressure of the same group of individuals before and after they undergo three different exercise programs (A, B, C). Repeated Measures ANOVA would be appropriate to determine if there are significant differences in blood pressure across the three exercise programs."
   ]
  },
  {
   "cell_type": "code",
   "execution_count": null,
   "id": "650df2cd-ad86-423b-b1ba-54354571cd2f",
   "metadata": {},
   "outputs": [],
   "source": [
    "Q3. What is the partitioning of variance in ANOVA, and why is it important to understand this concept?\n",
    "\n",
    "The partitioning of variance in Analysis of Variance (ANOVA) refers to the process of breaking down the total variability in the data into different components, each attributable to specific sources. \n",
    "Understanding this concept is crucial because it helps researchers and statisticians assess the relative contributions of different factors to the overall variation observed in the dependent variable. \n",
    "The partitioning of variance is a fundamental aspect of ANOVA and is typically represented by the total sum of squares (SST), the between-group sum of squares (SSB or SSBetween), and the within-group sum of squares (SSW or SSWithin).\n",
    "\n",
    "Understanding the partitioning of variance is important for the following reasons:\n",
    "Identification of Sources of Variation: \n",
    "    It helps researchers identify and quantify the sources of variation in the data, distinguishing between variation due to group differences and random variability within groups.\n",
    "Assessment of Treatment Effects: \n",
    "    Researchers can assess whether the differences between groups are statistically significant, providing insight into the effectiveness of experimental treatments or the impact of different factors.\n",
    "Interpretation of Results: \n",
    "    It enables a more nuanced interpretation of ANOVA results, allowing researchers to understand the relative importance of different factors influencing the dependent variable.\n",
    "Basis for F-Statistic: \n",
    "    The F-statistic, which is central to ANOVA, is calculated as the ratio of the variance between groups to the variance within groups. Understanding the partitioning of variance helps in interpreting the F-statistic and assessing its significance."
   ]
  },
  {
   "cell_type": "code",
   "execution_count": null,
   "id": "536993ab-b91c-4600-905a-a353e08849de",
   "metadata": {},
   "outputs": [],
   "source": [
    "Q4. How would you calculate the total sum of squares (SST), explained sum of squares (SSE), and residual\n",
    "sum of squares (SSR) in a one-way ANOVA using Python?"
   ]
  },
  {
   "cell_type": "code",
   "execution_count": 1,
   "id": "46686a62-211b-47c9-93bc-8342c2a820f1",
   "metadata": {},
   "outputs": [],
   "source": [
    "import numpy as np"
   ]
  },
  {
   "cell_type": "code",
   "execution_count": 2,
   "id": "99429d52-10e9-48ee-b155-08f6c5edc677",
   "metadata": {},
   "outputs": [],
   "source": [
    "group1 = np.array([23, 25, 27, 30, 32])\n",
    "group2 = np.array([18, 20, 22, 25, 28])\n",
    "group3 = np.array([15, 18, 20, 22, 24])"
   ]
  },
  {
   "cell_type": "code",
   "execution_count": 3,
   "id": "159a5842-d2eb-4300-aac7-29cf4aa0c65f",
   "metadata": {},
   "outputs": [
    {
     "data": {
      "text/plain": [
       "array([23, 25, 27, 30, 32])"
      ]
     },
     "execution_count": 3,
     "metadata": {},
     "output_type": "execute_result"
    }
   ],
   "source": [
    "group1"
   ]
  },
  {
   "cell_type": "code",
   "execution_count": 4,
   "id": "82e54e5c-3b76-45e1-86c0-5ee12cd1dbc6",
   "metadata": {},
   "outputs": [
    {
     "data": {
      "text/plain": [
       "array([18, 20, 22, 25, 28])"
      ]
     },
     "execution_count": 4,
     "metadata": {},
     "output_type": "execute_result"
    }
   ],
   "source": [
    "group2"
   ]
  },
  {
   "cell_type": "code",
   "execution_count": 5,
   "id": "caf5603c-a13f-40ea-bc0b-dcaf33a15382",
   "metadata": {},
   "outputs": [
    {
     "data": {
      "text/plain": [
       "array([15, 18, 20, 22, 24])"
      ]
     },
     "execution_count": 5,
     "metadata": {},
     "output_type": "execute_result"
    }
   ],
   "source": [
    "group3"
   ]
  },
  {
   "cell_type": "code",
   "execution_count": 6,
   "id": "919fa7ed-86cc-4117-93c1-0441cca87307",
   "metadata": {},
   "outputs": [],
   "source": [
    "# Combine data from all groups\n",
    "all_data = np.concatenate([group1, group2, group3])\n"
   ]
  },
  {
   "cell_type": "code",
   "execution_count": 7,
   "id": "408fa3a0-f8f9-4caa-9232-274fdae93e54",
   "metadata": {},
   "outputs": [
    {
     "data": {
      "text/plain": [
       "array([23, 25, 27, 30, 32, 18, 20, 22, 25, 28, 15, 18, 20, 22, 24])"
      ]
     },
     "execution_count": 7,
     "metadata": {},
     "output_type": "execute_result"
    }
   ],
   "source": [
    "all_data"
   ]
  },
  {
   "cell_type": "code",
   "execution_count": 8,
   "id": "a632b824-98b1-4485-967b-87cd1d64a911",
   "metadata": {},
   "outputs": [],
   "source": [
    "# Overall mean\n",
    "overall_mean = np.mean(all_data)"
   ]
  },
  {
   "cell_type": "code",
   "execution_count": 9,
   "id": "d6c0da02-33a3-4b50-acbc-492576cce65f",
   "metadata": {},
   "outputs": [
    {
     "data": {
      "text/plain": [
       "23.266666666666666"
      ]
     },
     "execution_count": 9,
     "metadata": {},
     "output_type": "execute_result"
    }
   ],
   "source": [
    "overall_mean"
   ]
  },
  {
   "cell_type": "code",
   "execution_count": 10,
   "id": "615a2133-c9d9-4ee8-af96-2d836f74e395",
   "metadata": {},
   "outputs": [],
   "source": [
    "# Calculate Total Sum of Squares (SST)\n",
    "SST = np.sum((all_data - overall_mean)**2)"
   ]
  },
  {
   "cell_type": "code",
   "execution_count": 11,
   "id": "c27dd4aa-4047-4b4c-9578-4c1afdaa73b2",
   "metadata": {},
   "outputs": [
    {
     "data": {
      "text/plain": [
       "312.9333333333333"
      ]
     },
     "execution_count": 11,
     "metadata": {},
     "output_type": "execute_result"
    }
   ],
   "source": [
    "SST"
   ]
  },
  {
   "cell_type": "code",
   "execution_count": 12,
   "id": "2adddbe9-7563-46f0-beeb-6c94a9a2d3c0",
   "metadata": {},
   "outputs": [
    {
     "name": "stderr",
     "output_type": "stream",
     "text": [
      "/tmp/ipykernel_1767/4233327289.py:4: DeprecationWarning: Calling np.sum(generator) is deprecated, and in the future will give a different result. Use np.sum(np.fromiter(generator)) or the python sum builtin instead.\n",
      "  SSE = np.sum(n * (group_mean - overall_mean)**2 for n, group_mean in zip(n_per_group, group_means))\n"
     ]
    }
   ],
   "source": [
    "# Calculate Explained Sum of Squares (SSE)\n",
    "group_means = [np.mean(group) for group in [group1, group2, group3]]\n",
    "n_per_group = [len(group) for group in [group1, group2, group3]]\n",
    "SSE = np.sum(n * (group_mean - overall_mean)**2 for n, group_mean in zip(n_per_group, group_means))"
   ]
  },
  {
   "cell_type": "code",
   "execution_count": 13,
   "id": "ed4dacc2-9ea2-4b91-a806-c47eb9bd199b",
   "metadata": {},
   "outputs": [
    {
     "data": {
      "text/plain": [
       "[27.4, 22.6, 19.8]"
      ]
     },
     "execution_count": 13,
     "metadata": {},
     "output_type": "execute_result"
    }
   ],
   "source": [
    "group_means"
   ]
  },
  {
   "cell_type": "code",
   "execution_count": 14,
   "id": "a3581435-266b-425d-bbe5-c341e29b078d",
   "metadata": {},
   "outputs": [
    {
     "data": {
      "text/plain": [
       "[5, 5, 5]"
      ]
     },
     "execution_count": 14,
     "metadata": {},
     "output_type": "execute_result"
    }
   ],
   "source": [
    "n_per_group"
   ]
  },
  {
   "cell_type": "code",
   "execution_count": 15,
   "id": "40552185-3227-4c9f-9f3f-d4384ca77a88",
   "metadata": {},
   "outputs": [
    {
     "data": {
      "text/plain": [
       "147.73333333333323"
      ]
     },
     "execution_count": 15,
     "metadata": {},
     "output_type": "execute_result"
    }
   ],
   "source": [
    "SSE"
   ]
  },
  {
   "cell_type": "code",
   "execution_count": 16,
   "id": "44c5851d-93ac-4620-9ae8-1695d4d1ec73",
   "metadata": {},
   "outputs": [],
   "source": [
    "# Calculate Residual Sum of Squares (SSR)\n",
    "SSR = SST - SSE"
   ]
  },
  {
   "cell_type": "code",
   "execution_count": 17,
   "id": "62f4c3db-c946-4995-8cd7-94887faec82c",
   "metadata": {},
   "outputs": [
    {
     "data": {
      "text/plain": [
       "165.20000000000005"
      ]
     },
     "execution_count": 17,
     "metadata": {},
     "output_type": "execute_result"
    }
   ],
   "source": [
    "SSR"
   ]
  },
  {
   "cell_type": "code",
   "execution_count": 18,
   "id": "c1c687ad-c99a-457d-a21c-4dba1aca81a6",
   "metadata": {},
   "outputs": [
    {
     "name": "stdout",
     "output_type": "stream",
     "text": [
      "Total Sum of Squares (SST): 312.9333333333333\n",
      "Explained Sum of Squares (SSE): 147.73333333333323\n",
      "Residual Sum of Squares (SSR): 165.20000000000005\n"
     ]
    }
   ],
   "source": [
    "# Print results\n",
    "print(\"Total Sum of Squares (SST):\", SST)\n",
    "print(\"Explained Sum of Squares (SSE):\", SSE)\n",
    "print(\"Residual Sum of Squares (SSR):\", SSR)"
   ]
  },
  {
   "cell_type": "code",
   "execution_count": null,
   "id": "2609ee00-9977-4432-8812-226caa80b7f1",
   "metadata": {},
   "outputs": [],
   "source": [
    "Q5. In a two-way ANOVA, how would you calculate the main effects and interaction effects using Python?"
   ]
  },
  {
   "cell_type": "code",
   "execution_count": 28,
   "id": "550efb89-4c70-4d50-ac54-c9ba1e36e2e3",
   "metadata": {},
   "outputs": [],
   "source": [
    "import pandas as pd\n",
    "import statsmodels.api as sm\n",
    "from statsmodels.formula.api import ols\n",
    "from scipy.stats import f_oneway"
   ]
  },
  {
   "cell_type": "code",
   "execution_count": 29,
   "id": "b2a17958-79a3-4925-ae53-5a06e1f05b9d",
   "metadata": {},
   "outputs": [],
   "source": [
    "data = {'A': [10, 15, 20, 25, 30],\n",
    "        'B': [5, 10, 15, 20, 25],\n",
    "        'Y': [45, 60, 75, 90, 105]}"
   ]
  },
  {
   "cell_type": "code",
   "execution_count": 30,
   "id": "3ff034f2-cd2d-4709-b6e4-c559d0709a49",
   "metadata": {},
   "outputs": [],
   "source": [
    "df = pd.DataFrame(data)"
   ]
  },
  {
   "cell_type": "code",
   "execution_count": 31,
   "id": "7a69900f-c260-41e0-a27d-f4d6cc45853b",
   "metadata": {},
   "outputs": [
    {
     "data": {
      "text/html": [
       "<div>\n",
       "<style scoped>\n",
       "    .dataframe tbody tr th:only-of-type {\n",
       "        vertical-align: middle;\n",
       "    }\n",
       "\n",
       "    .dataframe tbody tr th {\n",
       "        vertical-align: top;\n",
       "    }\n",
       "\n",
       "    .dataframe thead th {\n",
       "        text-align: right;\n",
       "    }\n",
       "</style>\n",
       "<table border=\"1\" class=\"dataframe\">\n",
       "  <thead>\n",
       "    <tr style=\"text-align: right;\">\n",
       "      <th></th>\n",
       "      <th>A</th>\n",
       "      <th>B</th>\n",
       "      <th>Y</th>\n",
       "    </tr>\n",
       "  </thead>\n",
       "  <tbody>\n",
       "    <tr>\n",
       "      <th>0</th>\n",
       "      <td>10</td>\n",
       "      <td>5</td>\n",
       "      <td>45</td>\n",
       "    </tr>\n",
       "    <tr>\n",
       "      <th>1</th>\n",
       "      <td>15</td>\n",
       "      <td>10</td>\n",
       "      <td>60</td>\n",
       "    </tr>\n",
       "    <tr>\n",
       "      <th>2</th>\n",
       "      <td>20</td>\n",
       "      <td>15</td>\n",
       "      <td>75</td>\n",
       "    </tr>\n",
       "    <tr>\n",
       "      <th>3</th>\n",
       "      <td>25</td>\n",
       "      <td>20</td>\n",
       "      <td>90</td>\n",
       "    </tr>\n",
       "    <tr>\n",
       "      <th>4</th>\n",
       "      <td>30</td>\n",
       "      <td>25</td>\n",
       "      <td>105</td>\n",
       "    </tr>\n",
       "  </tbody>\n",
       "</table>\n",
       "</div>"
      ],
      "text/plain": [
       "    A   B    Y\n",
       "0  10   5   45\n",
       "1  15  10   60\n",
       "2  20  15   75\n",
       "3  25  20   90\n",
       "4  30  25  105"
      ]
     },
     "execution_count": 31,
     "metadata": {},
     "output_type": "execute_result"
    }
   ],
   "source": [
    "df"
   ]
  },
  {
   "cell_type": "code",
   "execution_count": 32,
   "id": "aa6595dd-6195-4339-ba17-111361348aca",
   "metadata": {},
   "outputs": [],
   "source": [
    "# Fit the ANOVA model\n",
    "model = ols('Y ~ A * B', data=df).fit()\n",
    "anova_table = sm.stats.anova_lm(model, typ=2)"
   ]
  },
  {
   "cell_type": "code",
   "execution_count": 33,
   "id": "f172417c-a1b3-4370-915d-d16f26bb64ec",
   "metadata": {},
   "outputs": [
    {
     "data": {
      "text/plain": [
       "<statsmodels.regression.linear_model.RegressionResultsWrapper at 0x7f0bee180e50>"
      ]
     },
     "execution_count": 33,
     "metadata": {},
     "output_type": "execute_result"
    }
   ],
   "source": [
    "model"
   ]
  },
  {
   "cell_type": "code",
   "execution_count": 34,
   "id": "a576d383-7a26-4311-9898-a90d0250fd4b",
   "metadata": {},
   "outputs": [
    {
     "data": {
      "text/html": [
       "<div>\n",
       "<style scoped>\n",
       "    .dataframe tbody tr th:only-of-type {\n",
       "        vertical-align: middle;\n",
       "    }\n",
       "\n",
       "    .dataframe tbody tr th {\n",
       "        vertical-align: top;\n",
       "    }\n",
       "\n",
       "    .dataframe thead th {\n",
       "        text-align: right;\n",
       "    }\n",
       "</style>\n",
       "<table border=\"1\" class=\"dataframe\">\n",
       "  <thead>\n",
       "    <tr style=\"text-align: right;\">\n",
       "      <th></th>\n",
       "      <th>sum_sq</th>\n",
       "      <th>df</th>\n",
       "      <th>F</th>\n",
       "      <th>PR(&gt;F)</th>\n",
       "    </tr>\n",
       "  </thead>\n",
       "  <tbody>\n",
       "    <tr>\n",
       "      <th>A</th>\n",
       "      <td>8.700937e+02</td>\n",
       "      <td>1.0</td>\n",
       "      <td>3.792272e+27</td>\n",
       "      <td>2.636942e-28</td>\n",
       "    </tr>\n",
       "    <tr>\n",
       "      <th>B</th>\n",
       "      <td>1.131779e+02</td>\n",
       "      <td>1.0</td>\n",
       "      <td>4.932818e+26</td>\n",
       "      <td>2.027239e-27</td>\n",
       "    </tr>\n",
       "    <tr>\n",
       "      <th>A:B</th>\n",
       "      <td>1.818321e-26</td>\n",
       "      <td>1.0</td>\n",
       "      <td>7.925088e-02</td>\n",
       "      <td>8.047691e-01</td>\n",
       "    </tr>\n",
       "    <tr>\n",
       "      <th>Residual</th>\n",
       "      <td>4.588772e-25</td>\n",
       "      <td>2.0</td>\n",
       "      <td>NaN</td>\n",
       "      <td>NaN</td>\n",
       "    </tr>\n",
       "  </tbody>\n",
       "</table>\n",
       "</div>"
      ],
      "text/plain": [
       "                sum_sq   df             F        PR(>F)\n",
       "A         8.700937e+02  1.0  3.792272e+27  2.636942e-28\n",
       "B         1.131779e+02  1.0  4.932818e+26  2.027239e-27\n",
       "A:B       1.818321e-26  1.0  7.925088e-02  8.047691e-01\n",
       "Residual  4.588772e-25  2.0           NaN           NaN"
      ]
     },
     "execution_count": 34,
     "metadata": {},
     "output_type": "execute_result"
    }
   ],
   "source": [
    "anova_table"
   ]
  },
  {
   "cell_type": "code",
   "execution_count": 35,
   "id": "1ceb5bb7-de66-43a4-9705-f7c56b2a6e87",
   "metadata": {},
   "outputs": [],
   "source": [
    "# Extract main effects and interaction effects\n",
    "main_effect_A = anova_table['sum_sq']['A'] / anova_table['df']['A']\n",
    "main_effect_B = anova_table['sum_sq']['B'] / anova_table['df']['B']\n",
    "interaction_effect = anova_table['sum_sq']['A:B'] / anova_table['df']['A:B']"
   ]
  },
  {
   "cell_type": "code",
   "execution_count": 36,
   "id": "c9f6fa0b-31c9-40ed-9110-d11b43650fe6",
   "metadata": {},
   "outputs": [
    {
     "name": "stdout",
     "output_type": "stream",
     "text": [
      "Main Effect A: 870.0936663693159\n",
      "Main Effect B: 113.17788839402476\n",
      "Interaction Effect: 1.818321241851911e-26\n"
     ]
    }
   ],
   "source": [
    "# Print the results\n",
    "print(f\"Main Effect A: {main_effect_A}\")\n",
    "print(f\"Main Effect B: {main_effect_B}\")\n",
    "print(f\"Interaction Effect: {interaction_effect}\")"
   ]
  },
  {
   "cell_type": "code",
   "execution_count": null,
   "id": "8ccd7e8e-669d-4824-b417-fadfe5127050",
   "metadata": {},
   "outputs": [],
   "source": [
    "Q6. Suppose you conducted a one-way ANOVA and obtained an F-statistic of 5.23 and a p-value of 0.02.\n",
    "What can you conclude about the differences between the groups, and how would you interpret these\n",
    "results?\n",
    "\n",
    "\n",
    "In a one-way ANOVA (Analysis of Variance), the F-statistic is used to test whether there are significant differences among the means of three or more groups. The p-value associated with the F-statistic helps you determine whether these differences are statistically significant or not.\n",
    "In your case, the obtained F-statistic is 5.23, and the associated p-value is 0.02. To interpret these results:\n",
    "Null Hypothesis (H0): \n",
    "    The null hypothesis in ANOVA is that there is no significant difference among the group means. Mathematically, it is stated as \n",
    "      H0 : μ1=μ2=μ3=......=μk,where μ1,μ2,μ3,......μk are the population means of the k groups.\n",
    "Alternative Hypothesis (H1): \n",
    "    The alternative hypothesis is that at least one group mean is significantly different from the others.\n",
    "\n",
    "Given the p-value of 0.02, which is less than the typical significance level of 0.05, you would reject the null hypothesis. This suggests that there is enough evidence to conclude that there are significant differences among the group means.\n",
    "In practical terms, you can interpret this as follows:\n",
    "Significant Differences: \n",
    "    The groups in your study are not all the same. At least one group differs significantly from the others in terms of the variable you measured.\n",
    "Further Analysis: \n",
    "    Since the overall ANOVA test is significant, you may want to perform post-hoc tests (e.g., Tukey's HSD, Bonferroni) to identify which specific groups are different from each other.\n",
    "Effect Size: \n",
    "    While the ANOVA tells you if there are differences, it doesn't tell you the size of those differences. You may want to calculate and report effect size measures (e.g., eta-squared) to quantify the practical significance of the observed differences.\n",
    "\n",
    "In summary, with an F-statistic of 5.23 and a p-value of 0.02, you have evidence to reject the null hypothesis and conclude that there are significant differences among the group means."
   ]
  },
  {
   "cell_type": "code",
   "execution_count": null,
   "id": "a2de8097-6d63-45f9-80b4-b57cff426121",
   "metadata": {},
   "outputs": [],
   "source": [
    "Q7. In a repeated measures ANOVA, how would you handle missing data, and what are the potential\n",
    "consequences of using different methods to handle missing data?\n",
    "\n",
    "\n",
    "Handling missing data in repeated measures ANOVA is crucial to ensure the validity and reliability of your analysis. There are several methods to address missing data, and the choice of method can have implications for the results and interpretations. \n",
    "Here are some common approaches:\n",
    "Complete Case Analysis (Listwise Deletion): \n",
    "    This method involves excluding any participant with missing data on any variable included in the analysis. While this is straightforward, it can lead to a reduction in sample size and potential bias if the missing data are not completely random. This approach may result in biased estimates and reduced statistical power.\n",
    "Pairwise Deletion: \n",
    "    This method includes all available data for each analysis, so participants with missing data on some variables are still included in the analysis. However, this can lead to biased estimates of the variances and covariances between variables, affecting the accuracy of the results.\n",
    "Mean Imputation: \n",
    "    Missing values are replaced with the mean of the observed values for that variable. While this is simple and preserves the sample size, it can distort the distribution of the data and lead to an underestimation of standard errors. Additionally, it assumes that the missing values are missing completely at random, which may not be the case.\n",
    "Last Observation Carried Forward (LOCF): \n",
    "    Missing values are replaced with the last observed value. This method assumes that the most recent measurement is a good estimate of the missing value, but it may not be suitable if the pattern of missing data is related to the variable's trajectory over time.\n",
    "Multiple Imputation: \n",
    "    This advanced technique involves creating multiple sets of imputed values for missing data, allowing for the incorporation of uncertainty related to missing data. This method provides more accurate standard errors and parameter estimates compared to single imputation methods. However, it requires more sophisticated statistical software and may be computationally intensive.\n",
    "\n",
    "Consequences of Using Different Methods:\n",
    "Bias: \n",
    "    Certain methods, such as mean imputation or LOCF, can introduce bias into the analysis by artificially altering the distribution of the data.\n",
    "Reduced Power: \n",
    "    Methods that result in a reduction of the effective sample size, such as complete case analysis, may lead to reduced statistical power, making it more difficult to detect true effects.\n",
    "Invalid Inferences: \n",
    "    Using inappropriate methods for handling missing data can lead to invalid inferences and incorrect conclusions about the relationships between variables.\n",
    "Generalizability: \n",
    "    The method chosen may impact the generalizability of the findings, especially if the pattern of missing data is related to certain participant characteristics.\n",
    "\n",
    "It's essential to carefully consider the nature of the missing data and choose a method that aligns with the assumptions of the analysis while minimizing potential biases. Multiple imputation is generally considered a robust approach, but it requires careful implementation and consideration of the underlying missing data mechanism."
   ]
  },
  {
   "cell_type": "code",
   "execution_count": null,
   "id": "2d7c5264-be10-4e46-99e8-ff5f23b8e0e4",
   "metadata": {},
   "outputs": [],
   "source": [
    "Q8. What are some common post-hoc tests used after ANOVA, and when would you use each one? Provide\n",
    "an example of a situation where a post-hoc test might be necessary.\n",
    "\n",
    "Post-hoc tests are used in analysis of variance (ANOVA) to explore specific group differences when the overall ANOVA test indicates that there are significant differences among groups. These tests help identify which groups differ from each other. \n",
    "Here are some common post-hoc tests:\n",
    "Tukey's Honestly Significant Difference (HSD):\n",
    "  When to use: Tukey's HSD is appropriate when you have equal group sizes and want to compare all possible pairs of group means. It controls the overall Type I error rate.\n",
    "  Example: You conduct an ANOVA to compare the average scores of three teaching methods (A, B, and C). The ANOVA indicates a significant difference, and Tukey's HSD can be used to identify which pairs of teaching methods differ significantly.\n",
    "Bonferroni Correction:\n",
    "  When to use: Bonferroni correction is suitable when you are conducting multiple pairwise comparisons, and it adjusts the significance level to control the familywise error rate.\n",
    "  Example: You perform an ANOVA to analyze the effect of three different diets on weight loss. Post-hoc tests using Bonferroni correction can be applied to determine if there are significant differences between specific pairs of diets.\n",
    "Scheffé's Test:\n",
    "  When to use: Scheffé's test is a conservative approach suitable for unequal sample sizes and is used when you want to make all possible pairwise comparisons while controlling the familywise error rate.\n",
    "  Example: You are comparing the performance of four different training programs, and the ANOVA indicates a significant difference. Scheffé's test can help identify which specific pairs of training programs have significantly different effects.\n",
    "Dunnett's Test:\n",
    "  When to use: Dunnett's test is employed when you have one control group and want to compare all other groups to the control group.\n",
    "  Example: You conduct an ANOVA to assess the effectiveness of three different medications compared to a placebo. Dunnett's test can help identify which medications, if any, result in significantly different outcomes compared to the placebo.\n",
    "Games-Howell Test:\n",
    "  When to use: Games-Howell is a robust alternative to Tukey's HSD when sample sizes are unequal, and variances are not assumed to be equal.\n",
    "  Example: You perform an ANOVA to analyze the impact of different work schedules on productivity. If the ANOVA indicates significant differences, Games-Howell can be used to identify specific pairs of work schedules with significantly different effects.\n",
    "Example Scenario:\n",
    "   Imagine you are conducting a study to compare the mean scores of students' performance across four different teaching methods: A, B, C, and D. After conducting a one-way ANOVA, you find that the p-value is less than your chosen significance level (e.g., 0.05), indicating that there are significant differences among the group means.\n",
    "   In this situation, you would proceed to perform post-hoc tests to determine which specific pairs of teaching methods differ significantly. Depending on the assumptions and characteristics of your data (e.g., equal or unequal group sizes, homogeneity of variances), you might choose a post-hoc test such as Tukey's HSD, Bonferroni correction, Scheffé's test, or another appropriate test to make pairwise comparisons and draw conclusions about the specific teaching methods that lead to significantly different student performance."
   ]
  },
  {
   "cell_type": "code",
   "execution_count": null,
   "id": "d0513b9a-7440-4514-a963-eb88bfa218f4",
   "metadata": {},
   "outputs": [],
   "source": [
    "Q9. A researcher wants to compare the mean weight loss of three diets: A, B, and C. They collect data from\n",
    "50 participants who were randomly assigned to one of the diets. Conduct a one-way ANOVA using Python\n",
    "to determine if there are any significant differences between the mean weight loss of the three diets.\n",
    "Report the F-statistic and p-value, and interpret the results."
   ]
  },
  {
   "cell_type": "code",
   "execution_count": 37,
   "id": "17060a7a-420a-43ca-b995-cd465ac35845",
   "metadata": {},
   "outputs": [],
   "source": [
    "import numpy as np\n",
    "from scipy.stats import f_oneway"
   ]
  },
  {
   "cell_type": "code",
   "execution_count": 38,
   "id": "4f417c98-0d41-41f6-b2e8-5fde73c39667",
   "metadata": {},
   "outputs": [],
   "source": [
    "# Generate example weight loss data for three diets (A, B, C)\n",
    "np.random.seed(42)  # For reproducibility\n",
    "diet_A = np.random.normal(loc=5, scale=2, size=50)\n",
    "diet_B = np.random.normal(loc=4, scale=2, size=50)\n",
    "diet_C = np.random.normal(loc=6, scale=2, size=50)"
   ]
  },
  {
   "cell_type": "code",
   "execution_count": 39,
   "id": "0fb61da7-10c6-4af8-b052-f38e1f3512b9",
   "metadata": {},
   "outputs": [
    {
     "data": {
      "text/plain": [
       "array([5.99342831, 4.7234714 , 6.29537708, 8.04605971, 4.53169325,\n",
       "       4.53172609, 8.15842563, 6.53486946, 4.06105123, 6.08512009,\n",
       "       4.07316461, 4.06854049, 5.48392454, 1.17343951, 1.55016433,\n",
       "       3.87542494, 2.97433776, 5.62849467, 3.18395185, 2.1753926 ,\n",
       "       7.93129754, 4.5484474 , 5.13505641, 2.15050363, 3.91123455,\n",
       "       5.22184518, 2.69801285, 5.75139604, 3.79872262, 4.4166125 ,\n",
       "       3.79658678, 8.70455637, 4.97300555, 2.88457814, 6.64508982,\n",
       "       2.5583127 , 5.41772719, 1.08065975, 2.3436279 , 5.39372247,\n",
       "       6.47693316, 5.34273656, 4.76870344, 4.39779261, 2.04295602,\n",
       "       3.56031158, 4.07872246, 7.11424445, 5.68723658, 1.47391969])"
      ]
     },
     "execution_count": 39,
     "metadata": {},
     "output_type": "execute_result"
    }
   ],
   "source": [
    "diet_A"
   ]
  },
  {
   "cell_type": "code",
   "execution_count": 40,
   "id": "03073054-deeb-4b18-8caa-042ec210fe8d",
   "metadata": {},
   "outputs": [
    {
     "data": {
      "text/plain": [
       "array([ 4.64816794,  3.22983544,  2.646156  ,  5.22335258,  6.06199904,\n",
       "        5.86256024,  2.32156495,  3.38157525,  4.66252686,  5.95109025,\n",
       "        3.04165152,  3.62868205,  1.78733005,  1.60758675,  5.62505164,\n",
       "        6.71248006,  3.85597976,  6.0070658 ,  4.72327205,  2.70976049,\n",
       "        4.72279121,  7.07607313,  3.92834792,  7.12928731, -1.23949021,\n",
       "        5.64380501,  4.17409414,  3.4019853 ,  4.18352155,  0.02486217,\n",
       "        3.56065622,  4.71422514,  6.95578809,  2.96345956,  2.38301279,\n",
       "        2.99648591,  5.83080424,  4.65750222,  2.94047959,  5.02653487,\n",
       "        4.1941551 ,  5.93728998,  2.59589381,  3.34467571,  3.21578369,\n",
       "        1.0729701 ,  4.59224055,  4.52211054,  4.01022691,  3.53082573])"
      ]
     },
     "execution_count": 40,
     "metadata": {},
     "output_type": "execute_result"
    }
   ],
   "source": [
    "diet_B"
   ]
  },
  {
   "cell_type": "code",
   "execution_count": 41,
   "id": "b8636611-22e8-43c9-a725-3faf89e08440",
   "metadata": {},
   "outputs": [
    {
     "data": {
      "text/plain": [
       "array([ 3.16925852,  5.15870935,  5.31457097,  4.39544546,  5.67742858,\n",
       "        6.80810171,  9.7723718 ,  6.34915563,  6.51510078,  5.85110817,\n",
       "        2.16245757,  5.94697225,  6.12046042, 10.92648422,  5.61527807,\n",
       "        6.60309468,  5.93057646,  3.66264392,  8.28564563,  7.50386607,\n",
       "        7.58206389,  4.18122509,  8.80558862,  3.19629787,  7.17371419,\n",
       "       10.38091125,  4.01892735,  4.86740454,  6.19930273,  4.99304869,\n",
       "        2.89867314,  6.13712595,  3.87539257,  6.94718486,  4.16115153,\n",
       "        9.09986881,  4.43349342,  5.35587697,  7.62703443,  3.53827137,\n",
       "        6.45491987,  8.61428551,  2.78503353,  6.36926772,  6.51976559,\n",
       "        7.56364574,  3.52609858,  3.35908677,  7.04388313,  6.59396935])"
      ]
     },
     "execution_count": 41,
     "metadata": {},
     "output_type": "execute_result"
    }
   ],
   "source": [
    "diet_C"
   ]
  },
  {
   "cell_type": "code",
   "execution_count": 42,
   "id": "2d2ffaeb-b2eb-4268-b8d3-d2be2b42ad46",
   "metadata": {},
   "outputs": [],
   "source": [
    "# Combine the data\n",
    "all_data = [diet_A, diet_B, diet_C]"
   ]
  },
  {
   "cell_type": "code",
   "execution_count": 43,
   "id": "0817721b-85e6-4785-a86c-e21f2906ce19",
   "metadata": {},
   "outputs": [
    {
     "data": {
      "text/plain": [
       "[array([5.99342831, 4.7234714 , 6.29537708, 8.04605971, 4.53169325,\n",
       "        4.53172609, 8.15842563, 6.53486946, 4.06105123, 6.08512009,\n",
       "        4.07316461, 4.06854049, 5.48392454, 1.17343951, 1.55016433,\n",
       "        3.87542494, 2.97433776, 5.62849467, 3.18395185, 2.1753926 ,\n",
       "        7.93129754, 4.5484474 , 5.13505641, 2.15050363, 3.91123455,\n",
       "        5.22184518, 2.69801285, 5.75139604, 3.79872262, 4.4166125 ,\n",
       "        3.79658678, 8.70455637, 4.97300555, 2.88457814, 6.64508982,\n",
       "        2.5583127 , 5.41772719, 1.08065975, 2.3436279 , 5.39372247,\n",
       "        6.47693316, 5.34273656, 4.76870344, 4.39779261, 2.04295602,\n",
       "        3.56031158, 4.07872246, 7.11424445, 5.68723658, 1.47391969]),\n",
       " array([ 4.64816794,  3.22983544,  2.646156  ,  5.22335258,  6.06199904,\n",
       "         5.86256024,  2.32156495,  3.38157525,  4.66252686,  5.95109025,\n",
       "         3.04165152,  3.62868205,  1.78733005,  1.60758675,  5.62505164,\n",
       "         6.71248006,  3.85597976,  6.0070658 ,  4.72327205,  2.70976049,\n",
       "         4.72279121,  7.07607313,  3.92834792,  7.12928731, -1.23949021,\n",
       "         5.64380501,  4.17409414,  3.4019853 ,  4.18352155,  0.02486217,\n",
       "         3.56065622,  4.71422514,  6.95578809,  2.96345956,  2.38301279,\n",
       "         2.99648591,  5.83080424,  4.65750222,  2.94047959,  5.02653487,\n",
       "         4.1941551 ,  5.93728998,  2.59589381,  3.34467571,  3.21578369,\n",
       "         1.0729701 ,  4.59224055,  4.52211054,  4.01022691,  3.53082573]),\n",
       " array([ 3.16925852,  5.15870935,  5.31457097,  4.39544546,  5.67742858,\n",
       "         6.80810171,  9.7723718 ,  6.34915563,  6.51510078,  5.85110817,\n",
       "         2.16245757,  5.94697225,  6.12046042, 10.92648422,  5.61527807,\n",
       "         6.60309468,  5.93057646,  3.66264392,  8.28564563,  7.50386607,\n",
       "         7.58206389,  4.18122509,  8.80558862,  3.19629787,  7.17371419,\n",
       "        10.38091125,  4.01892735,  4.86740454,  6.19930273,  4.99304869,\n",
       "         2.89867314,  6.13712595,  3.87539257,  6.94718486,  4.16115153,\n",
       "         9.09986881,  4.43349342,  5.35587697,  7.62703443,  3.53827137,\n",
       "         6.45491987,  8.61428551,  2.78503353,  6.36926772,  6.51976559,\n",
       "         7.56364574,  3.52609858,  3.35908677,  7.04388313,  6.59396935])]"
      ]
     },
     "execution_count": 43,
     "metadata": {},
     "output_type": "execute_result"
    }
   ],
   "source": [
    "all_data"
   ]
  },
  {
   "cell_type": "code",
   "execution_count": 44,
   "id": "7ebedf5e-f1fc-4692-a96b-5d9139056514",
   "metadata": {},
   "outputs": [],
   "source": [
    "# Perform one-way ANOVA\n",
    "f_statistic, p_value = f_oneway(*all_data)"
   ]
  },
  {
   "cell_type": "code",
   "execution_count": 45,
   "id": "62261292-34ee-4794-906b-46af1d818a0a",
   "metadata": {},
   "outputs": [
    {
     "name": "stdout",
     "output_type": "stream",
     "text": [
      "F-statistic: 13.364811099020901\n",
      "P-value: 4.646161222392871e-06\n"
     ]
    }
   ],
   "source": [
    "# Display results\n",
    "print(f\"F-statistic: {f_statistic}\")\n",
    "print(f\"P-value: {p_value}\")\n"
   ]
  },
  {
   "cell_type": "code",
   "execution_count": 46,
   "id": "9da3369d-1e2c-446b-b3cf-ce07921f82b1",
   "metadata": {},
   "outputs": [
    {
     "name": "stdout",
     "output_type": "stream",
     "text": [
      "The one-way ANOVA is statistically significant.\n",
      "There are significant differences in the mean weight loss between at least two diets.\n"
     ]
    }
   ],
   "source": [
    "# Interpret the results\n",
    "alpha = 0.05\n",
    "if p_value < alpha:\n",
    "    print(\"The one-way ANOVA is statistically significant.\")\n",
    "    print(\"There are significant differences in the mean weight loss between at least two diets.\")\n",
    "else:\n",
    "    print(\"The one-way ANOVA is not statistically significant.\")\n",
    "    print(\"There is not enough evidence to conclude significant differences in mean weight loss between the diets.\")"
   ]
  },
  {
   "cell_type": "code",
   "execution_count": null,
   "id": "1a8a0a3b-726a-438d-b65e-a3b6dd0ce281",
   "metadata": {},
   "outputs": [],
   "source": [
    "Q10. A company wants to know if there are any significant differences in the average time it takes to\n",
    "complete a task using three different software programs: Program A, Program B, and Program C. They\n",
    "randomly assign 30 employees to one of the programs and record the time it takes each employee to\n",
    "complete the task. Conduct a two-way ANOVA using Python to determine if there are any main effects or\n",
    "interaction effects between the software programs and employee experience level (novice vs.\n",
    "experienced). Report the F-statistics and p-values, and interpret the results."
   ]
  },
  {
   "cell_type": "code",
   "execution_count": 69,
   "id": "a6bc84cb-0248-47c1-8dbe-e1747a671684",
   "metadata": {},
   "outputs": [],
   "source": [
    "import numpy as np\n",
    "import pandas as pd\n",
    "from scipy.stats import f_oneway\n",
    "from statsmodels.formula.api import ols\n",
    "from statsmodels.stats.anova import anova_lm"
   ]
  },
  {
   "cell_type": "code",
   "execution_count": 70,
   "id": "67bc0e31-e642-46e9-8976-14760d35e5ac",
   "metadata": {},
   "outputs": [],
   "source": [
    "# Set a random seed for reproducibility\n",
    "np.random.seed(42)\n"
   ]
  },
  {
   "cell_type": "code",
   "execution_count": 71,
   "id": "6692ca40-6978-49fa-9a4d-8195f94a76d6",
   "metadata": {},
   "outputs": [],
   "source": [
    "# Generate example data\n",
    "n_employees_per_group = 30\n",
    "programs = np.repeat(['Program A', 'Program B', 'Program C'], n_employees_per_group)\n",
    "experience_levels = np.tile(['Novice', 'Experienced'], n_employees_per_group+15)"
   ]
  },
  {
   "cell_type": "code",
   "execution_count": 72,
   "id": "21ff1a38-d2f4-4cce-ac86-76e493f51bfe",
   "metadata": {},
   "outputs": [
    {
     "data": {
      "text/plain": [
       "array(['Program A', 'Program A', 'Program A', 'Program A', 'Program A',\n",
       "       'Program A', 'Program A', 'Program A', 'Program A', 'Program A',\n",
       "       'Program A', 'Program A', 'Program A', 'Program A', 'Program A',\n",
       "       'Program A', 'Program A', 'Program A', 'Program A', 'Program A',\n",
       "       'Program A', 'Program A', 'Program A', 'Program A', 'Program A',\n",
       "       'Program A', 'Program A', 'Program A', 'Program A', 'Program A',\n",
       "       'Program B', 'Program B', 'Program B', 'Program B', 'Program B',\n",
       "       'Program B', 'Program B', 'Program B', 'Program B', 'Program B',\n",
       "       'Program B', 'Program B', 'Program B', 'Program B', 'Program B',\n",
       "       'Program B', 'Program B', 'Program B', 'Program B', 'Program B',\n",
       "       'Program B', 'Program B', 'Program B', 'Program B', 'Program B',\n",
       "       'Program B', 'Program B', 'Program B', 'Program B', 'Program B',\n",
       "       'Program C', 'Program C', 'Program C', 'Program C', 'Program C',\n",
       "       'Program C', 'Program C', 'Program C', 'Program C', 'Program C',\n",
       "       'Program C', 'Program C', 'Program C', 'Program C', 'Program C',\n",
       "       'Program C', 'Program C', 'Program C', 'Program C', 'Program C',\n",
       "       'Program C', 'Program C', 'Program C', 'Program C', 'Program C',\n",
       "       'Program C', 'Program C', 'Program C', 'Program C', 'Program C'],\n",
       "      dtype='<U9')"
      ]
     },
     "execution_count": 72,
     "metadata": {},
     "output_type": "execute_result"
    }
   ],
   "source": [
    "programs"
   ]
  },
  {
   "cell_type": "code",
   "execution_count": 73,
   "id": "6430467d-daa6-4e48-aaff-0b88a55839a5",
   "metadata": {},
   "outputs": [
    {
     "data": {
      "text/plain": [
       "array(['Novice', 'Experienced', 'Novice', 'Experienced', 'Novice',\n",
       "       'Experienced', 'Novice', 'Experienced', 'Novice', 'Experienced',\n",
       "       'Novice', 'Experienced', 'Novice', 'Experienced', 'Novice',\n",
       "       'Experienced', 'Novice', 'Experienced', 'Novice', 'Experienced',\n",
       "       'Novice', 'Experienced', 'Novice', 'Experienced', 'Novice',\n",
       "       'Experienced', 'Novice', 'Experienced', 'Novice', 'Experienced',\n",
       "       'Novice', 'Experienced', 'Novice', 'Experienced', 'Novice',\n",
       "       'Experienced', 'Novice', 'Experienced', 'Novice', 'Experienced',\n",
       "       'Novice', 'Experienced', 'Novice', 'Experienced', 'Novice',\n",
       "       'Experienced', 'Novice', 'Experienced', 'Novice', 'Experienced',\n",
       "       'Novice', 'Experienced', 'Novice', 'Experienced', 'Novice',\n",
       "       'Experienced', 'Novice', 'Experienced', 'Novice', 'Experienced',\n",
       "       'Novice', 'Experienced', 'Novice', 'Experienced', 'Novice',\n",
       "       'Experienced', 'Novice', 'Experienced', 'Novice', 'Experienced',\n",
       "       'Novice', 'Experienced', 'Novice', 'Experienced', 'Novice',\n",
       "       'Experienced', 'Novice', 'Experienced', 'Novice', 'Experienced',\n",
       "       'Novice', 'Experienced', 'Novice', 'Experienced', 'Novice',\n",
       "       'Experienced', 'Novice', 'Experienced', 'Novice', 'Experienced'],\n",
       "      dtype='<U11')"
      ]
     },
     "execution_count": 73,
     "metadata": {},
     "output_type": "execute_result"
    }
   ],
   "source": [
    "experience_levels"
   ]
  },
  {
   "cell_type": "code",
   "execution_count": 74,
   "id": "d50b0ccc-d939-4277-8de3-0c8bf9205388",
   "metadata": {},
   "outputs": [],
   "source": [
    "# Simulate time data\n",
    "time_data = np.random.normal(loc=20, scale=5, size=n_employees_per_group * 3)\n"
   ]
  },
  {
   "cell_type": "code",
   "execution_count": 76,
   "id": "daaa94b3-8121-4dc3-84e0-5d1a558ee17b",
   "metadata": {},
   "outputs": [
    {
     "data": {
      "text/plain": [
       "array([22.48357077, 19.30867849, 23.23844269, 27.61514928, 18.82923313,\n",
       "       18.82931522, 27.89606408, 23.83717365, 17.65262807, 22.71280022,\n",
       "       17.68291154, 17.67135123, 21.20981136, 10.43359878, 11.37541084,\n",
       "       17.18856235, 14.9358444 , 21.57123666, 15.45987962, 12.93848149,\n",
       "       27.32824384, 18.8711185 , 20.33764102, 12.87625907, 17.27808638,\n",
       "       20.55461295, 14.24503211, 21.87849009, 16.99680655, 18.54153125,\n",
       "       16.99146694, 29.26139092, 19.93251388, 14.71144536, 24.11272456,\n",
       "       13.89578175, 21.04431798, 10.20164938, 13.35906976, 20.98430618,\n",
       "       23.6923329 , 20.85684141, 19.42175859, 18.49448152, 12.60739005,\n",
       "       16.40077896, 17.69680615, 25.28561113, 21.71809145, 11.18479922,\n",
       "       21.62041985, 18.0745886 , 16.61539   , 23.05838144, 25.15499761,\n",
       "       24.6564006 , 15.80391238, 18.45393812, 21.65631716, 24.87772564,\n",
       "       17.60412881, 19.07170512, 14.46832513, 14.01896688, 24.06262911,\n",
       "       26.78120014, 19.63994939, 25.01766449, 21.80818013, 16.77440123,\n",
       "       21.80697803, 27.69018283, 19.8208698 , 27.82321828,  6.90127448,\n",
       "       24.10951252, 20.43523534, 18.50496325, 20.45880388, 10.06215543,\n",
       "       18.90164056, 21.78556286, 27.38947022, 17.40864891, 15.95753199,\n",
       "       17.49121478, 24.57701059, 21.64375555, 17.35119898, 22.56633717])"
      ]
     },
     "execution_count": 76,
     "metadata": {},
     "output_type": "execute_result"
    }
   ],
   "source": [
    "time_data"
   ]
  },
  {
   "cell_type": "code",
   "execution_count": 80,
   "id": "b644b845-e34f-4f94-b1f2-f39f334a2ac9",
   "metadata": {},
   "outputs": [],
   "source": [
    "# Create a DataFrame\n",
    "df = pd.DataFrame({'Program': programs, 'Experience': experience_levels, 'Time': time_data})"
   ]
  },
  {
   "cell_type": "code",
   "execution_count": 81,
   "id": "e991acc6-0362-41c1-aaba-83f318b9c93d",
   "metadata": {},
   "outputs": [
    {
     "data": {
      "text/html": [
       "<div>\n",
       "<style scoped>\n",
       "    .dataframe tbody tr th:only-of-type {\n",
       "        vertical-align: middle;\n",
       "    }\n",
       "\n",
       "    .dataframe tbody tr th {\n",
       "        vertical-align: top;\n",
       "    }\n",
       "\n",
       "    .dataframe thead th {\n",
       "        text-align: right;\n",
       "    }\n",
       "</style>\n",
       "<table border=\"1\" class=\"dataframe\">\n",
       "  <thead>\n",
       "    <tr style=\"text-align: right;\">\n",
       "      <th></th>\n",
       "      <th>Program</th>\n",
       "      <th>Experience</th>\n",
       "      <th>Time</th>\n",
       "    </tr>\n",
       "  </thead>\n",
       "  <tbody>\n",
       "    <tr>\n",
       "      <th>0</th>\n",
       "      <td>Program A</td>\n",
       "      <td>Novice</td>\n",
       "      <td>22.483571</td>\n",
       "    </tr>\n",
       "    <tr>\n",
       "      <th>1</th>\n",
       "      <td>Program A</td>\n",
       "      <td>Experienced</td>\n",
       "      <td>19.308678</td>\n",
       "    </tr>\n",
       "    <tr>\n",
       "      <th>2</th>\n",
       "      <td>Program A</td>\n",
       "      <td>Novice</td>\n",
       "      <td>23.238443</td>\n",
       "    </tr>\n",
       "    <tr>\n",
       "      <th>3</th>\n",
       "      <td>Program A</td>\n",
       "      <td>Experienced</td>\n",
       "      <td>27.615149</td>\n",
       "    </tr>\n",
       "    <tr>\n",
       "      <th>4</th>\n",
       "      <td>Program A</td>\n",
       "      <td>Novice</td>\n",
       "      <td>18.829233</td>\n",
       "    </tr>\n",
       "    <tr>\n",
       "      <th>...</th>\n",
       "      <td>...</td>\n",
       "      <td>...</td>\n",
       "      <td>...</td>\n",
       "    </tr>\n",
       "    <tr>\n",
       "      <th>85</th>\n",
       "      <td>Program C</td>\n",
       "      <td>Experienced</td>\n",
       "      <td>17.491215</td>\n",
       "    </tr>\n",
       "    <tr>\n",
       "      <th>86</th>\n",
       "      <td>Program C</td>\n",
       "      <td>Novice</td>\n",
       "      <td>24.577011</td>\n",
       "    </tr>\n",
       "    <tr>\n",
       "      <th>87</th>\n",
       "      <td>Program C</td>\n",
       "      <td>Experienced</td>\n",
       "      <td>21.643756</td>\n",
       "    </tr>\n",
       "    <tr>\n",
       "      <th>88</th>\n",
       "      <td>Program C</td>\n",
       "      <td>Novice</td>\n",
       "      <td>17.351199</td>\n",
       "    </tr>\n",
       "    <tr>\n",
       "      <th>89</th>\n",
       "      <td>Program C</td>\n",
       "      <td>Experienced</td>\n",
       "      <td>22.566337</td>\n",
       "    </tr>\n",
       "  </tbody>\n",
       "</table>\n",
       "<p>90 rows × 3 columns</p>\n",
       "</div>"
      ],
      "text/plain": [
       "      Program   Experience       Time\n",
       "0   Program A       Novice  22.483571\n",
       "1   Program A  Experienced  19.308678\n",
       "2   Program A       Novice  23.238443\n",
       "3   Program A  Experienced  27.615149\n",
       "4   Program A       Novice  18.829233\n",
       "..        ...          ...        ...\n",
       "85  Program C  Experienced  17.491215\n",
       "86  Program C       Novice  24.577011\n",
       "87  Program C  Experienced  21.643756\n",
       "88  Program C       Novice  17.351199\n",
       "89  Program C  Experienced  22.566337\n",
       "\n",
       "[90 rows x 3 columns]"
      ]
     },
     "execution_count": 81,
     "metadata": {},
     "output_type": "execute_result"
    }
   ],
   "source": [
    "df"
   ]
  },
  {
   "cell_type": "code",
   "execution_count": 82,
   "id": "8de3903a-90e8-4041-a7c8-f95e227947db",
   "metadata": {},
   "outputs": [],
   "source": [
    "# Perform two-way ANOVA\n",
    "formula = 'Time ~ C(Program) + C(Experience) + C(Program):C(Experience)'\n",
    "model = ols(formula, df).fit()\n",
    "anova_table = anova_lm(model, typ=2)"
   ]
  },
  {
   "cell_type": "code",
   "execution_count": 83,
   "id": "eee858e4-83e2-41a2-b157-cba0b996dac5",
   "metadata": {},
   "outputs": [
    {
     "data": {
      "text/plain": [
       "<statsmodels.regression.linear_model.RegressionResultsWrapper at 0x7f0bf0b7ec80>"
      ]
     },
     "execution_count": 83,
     "metadata": {},
     "output_type": "execute_result"
    }
   ],
   "source": [
    "model"
   ]
  },
  {
   "cell_type": "code",
   "execution_count": 84,
   "id": "2a9a7f1a-5a1b-47e1-8d8d-3db681fa0be5",
   "metadata": {},
   "outputs": [
    {
     "data": {
      "text/html": [
       "<div>\n",
       "<style scoped>\n",
       "    .dataframe tbody tr th:only-of-type {\n",
       "        vertical-align: middle;\n",
       "    }\n",
       "\n",
       "    .dataframe tbody tr th {\n",
       "        vertical-align: top;\n",
       "    }\n",
       "\n",
       "    .dataframe thead th {\n",
       "        text-align: right;\n",
       "    }\n",
       "</style>\n",
       "<table border=\"1\" class=\"dataframe\">\n",
       "  <thead>\n",
       "    <tr style=\"text-align: right;\">\n",
       "      <th></th>\n",
       "      <th>sum_sq</th>\n",
       "      <th>df</th>\n",
       "      <th>F</th>\n",
       "      <th>PR(&gt;F)</th>\n",
       "    </tr>\n",
       "  </thead>\n",
       "  <tbody>\n",
       "    <tr>\n",
       "      <th>C(Program)</th>\n",
       "      <td>15.717327</td>\n",
       "      <td>2.0</td>\n",
       "      <td>0.344485</td>\n",
       "      <td>0.709581</td>\n",
       "    </tr>\n",
       "    <tr>\n",
       "      <th>C(Experience)</th>\n",
       "      <td>2.994142</td>\n",
       "      <td>1.0</td>\n",
       "      <td>0.131248</td>\n",
       "      <td>0.718051</td>\n",
       "    </tr>\n",
       "    <tr>\n",
       "      <th>C(Program):C(Experience)</th>\n",
       "      <td>9.952457</td>\n",
       "      <td>2.0</td>\n",
       "      <td>0.218133</td>\n",
       "      <td>0.804472</td>\n",
       "    </tr>\n",
       "    <tr>\n",
       "      <th>Residual</th>\n",
       "      <td>1916.273490</td>\n",
       "      <td>84.0</td>\n",
       "      <td>NaN</td>\n",
       "      <td>NaN</td>\n",
       "    </tr>\n",
       "  </tbody>\n",
       "</table>\n",
       "</div>"
      ],
      "text/plain": [
       "                               sum_sq    df         F    PR(>F)\n",
       "C(Program)                  15.717327   2.0  0.344485  0.709581\n",
       "C(Experience)                2.994142   1.0  0.131248  0.718051\n",
       "C(Program):C(Experience)     9.952457   2.0  0.218133  0.804472\n",
       "Residual                  1916.273490  84.0       NaN       NaN"
      ]
     },
     "execution_count": 84,
     "metadata": {},
     "output_type": "execute_result"
    }
   ],
   "source": [
    "anova_table"
   ]
  },
  {
   "cell_type": "code",
   "execution_count": 85,
   "id": "056acac2-5e40-4ad2-97da-c83d291aeffa",
   "metadata": {},
   "outputs": [],
   "source": [
    "# Interpret the results\n",
    "alpha = 0.05\n",
    "p_value_program = anova_table.loc['C(Program)', 'PR(>F)']\n",
    "p_value_experience = anova_table.loc['C(Experience)', 'PR(>F)']\n",
    "p_value_interaction = anova_table.loc['C(Program):C(Experience)', 'PR(>F)']"
   ]
  },
  {
   "cell_type": "code",
   "execution_count": 86,
   "id": "1b857e6e-157b-413d-b5c9-33f27f833634",
   "metadata": {},
   "outputs": [
    {
     "data": {
      "text/plain": [
       "0.7095813882358291"
      ]
     },
     "execution_count": 86,
     "metadata": {},
     "output_type": "execute_result"
    }
   ],
   "source": [
    "p_value_program"
   ]
  },
  {
   "cell_type": "code",
   "execution_count": 87,
   "id": "26fb7ee6-22a8-4439-ba9e-f8e4cf5a990b",
   "metadata": {},
   "outputs": [
    {
     "data": {
      "text/plain": [
       "0.7180509539617208"
      ]
     },
     "execution_count": 87,
     "metadata": {},
     "output_type": "execute_result"
    }
   ],
   "source": [
    "p_value_experience"
   ]
  },
  {
   "cell_type": "code",
   "execution_count": 88,
   "id": "414c2732-0cd2-41b8-9569-faf8b095306e",
   "metadata": {},
   "outputs": [
    {
     "data": {
      "text/plain": [
       "0.8044721993691825"
      ]
     },
     "execution_count": 88,
     "metadata": {},
     "output_type": "execute_result"
    }
   ],
   "source": [
    "p_value_interaction"
   ]
  },
  {
   "cell_type": "code",
   "execution_count": 89,
   "id": "de0cfe8e-57e9-4467-95d6-d43896d631b0",
   "metadata": {},
   "outputs": [
    {
     "name": "stdout",
     "output_type": "stream",
     "text": [
      "There is no significant main effect of software programs on task completion time.\n",
      "There is no significant main effect of employee experience on task completion time.\n",
      "There is no significant interaction effect between software programs and employee experience.\n"
     ]
    }
   ],
   "source": [
    "if p_value_program < alpha:\n",
    "    print(\"There is a significant main effect of software programs on task completion time.\")\n",
    "else:\n",
    "    print(\"There is no significant main effect of software programs on task completion time.\")\n",
    "\n",
    "if p_value_experience < alpha:\n",
    "    print(\"There is a significant main effect of employee experience on task completion time.\")\n",
    "else:\n",
    "    print(\"There is no significant main effect of employee experience on task completion time.\")\n",
    "\n",
    "if p_value_interaction < alpha:\n",
    "    print(\"There is a significant interaction effect between software programs and employee experience.\")\n",
    "else:\n",
    "    print(\"There is no significant interaction effect between software programs and employee experience.\")"
   ]
  },
  {
   "cell_type": "code",
   "execution_count": null,
   "id": "841f0b52-d289-4cec-982d-7cc3c8393929",
   "metadata": {},
   "outputs": [],
   "source": [
    "Q11. An educational researcher is interested in whether a new teaching method improves student test\n",
    "scores. They randomly assign 100 students to either the control group (traditional teaching method) or the\n",
    "experimental group (new teaching method) and administer a test at the end of the semester. Conduct a\n",
    "two-sample t-test using Python to determine if there are any significant differences in test scores\n",
    "between the two groups. If the results are significant, follow up with a post-hoc test to determine which\n",
    "group(s) differ significantly from each other."
   ]
  },
  {
   "cell_type": "code",
   "execution_count": 90,
   "id": "85acbed2-e4f7-449a-a033-16a080bcefc3",
   "metadata": {},
   "outputs": [],
   "source": [
    "import numpy as np\n",
    "from scipy.stats import ttest_ind\n",
    "import statsmodels.api as sm\n",
    "from statsmodels.stats.multicomp import pairwise_tukeyhsd"
   ]
  },
  {
   "cell_type": "code",
   "execution_count": 91,
   "id": "180c00e7-c947-4eca-8968-0828d06da6c2",
   "metadata": {},
   "outputs": [],
   "source": [
    "# Set a random seed for reproducibility\n",
    "np.random.seed(42)"
   ]
  },
  {
   "cell_type": "code",
   "execution_count": 92,
   "id": "dd28f9a6-e5c7-4035-b8f8-3c6fc65de833",
   "metadata": {},
   "outputs": [],
   "source": [
    "# Generate example test scores (replace with your actual data)\n",
    "control_group = np.random.normal(loc=70, scale=10, size=100)\n",
    "experimental_group = np.random.normal(loc=75, scale=10, size=100)"
   ]
  },
  {
   "cell_type": "code",
   "execution_count": 93,
   "id": "2c788aa3-f87f-4d85-a1a0-cb7ee156d0ee",
   "metadata": {},
   "outputs": [
    {
     "data": {
      "text/plain": [
       "array([74.96714153, 68.61735699, 76.47688538, 85.23029856, 67.65846625,\n",
       "       67.65863043, 85.79212816, 77.67434729, 65.30525614, 75.42560044,\n",
       "       65.36582307, 65.34270246, 72.41962272, 50.86719755, 52.75082167,\n",
       "       64.37712471, 59.8716888 , 73.14247333, 60.91975924, 55.87696299,\n",
       "       84.65648769, 67.742237  , 70.67528205, 55.75251814, 64.55617275,\n",
       "       71.1092259 , 58.49006423, 73.75698018, 63.9936131 , 67.0830625 ,\n",
       "       63.98293388, 88.52278185, 69.86502775, 59.42289071, 78.22544912,\n",
       "       57.7915635 , 72.08863595, 50.40329876, 56.71813951, 71.96861236,\n",
       "       77.3846658 , 71.71368281, 68.84351718, 66.98896304, 55.2147801 ,\n",
       "       62.80155792, 65.39361229, 80.57122226, 73.4361829 , 52.36959845,\n",
       "       73.24083969, 66.1491772 , 63.23078   , 76.11676289, 80.30999522,\n",
       "       79.31280119, 61.60782477, 66.90787624, 73.31263431, 79.75545127,\n",
       "       65.20825762, 68.14341023, 58.93665026, 58.03793376, 78.12525822,\n",
       "       83.56240029, 69.27989878, 80.03532898, 73.61636025, 63.54880245,\n",
       "       73.61395606, 85.38036566, 69.64173961, 85.64643656, 43.80254896,\n",
       "       78.21902504, 70.87047068, 67.0099265 , 70.91760777, 50.12431085,\n",
       "       67.80328112, 73.57112572, 84.77894045, 64.81729782, 61.91506397,\n",
       "       64.98242956, 79.15402118, 73.2875111 , 64.70239796, 75.13267433,\n",
       "       70.97077549, 79.68644991, 62.97946906, 66.72337853, 66.07891847,\n",
       "       55.36485052, 72.96120277, 72.61055272, 70.05113457, 67.65412867])"
      ]
     },
     "execution_count": 93,
     "metadata": {},
     "output_type": "execute_result"
    }
   ],
   "source": [
    "control_group"
   ]
  },
  {
   "cell_type": "code",
   "execution_count": 94,
   "id": "59f1437d-8636-44a6-8ee5-43517c383e67",
   "metadata": {},
   "outputs": [
    {
     "data": {
      "text/plain": [
       "array([ 60.84629258,  70.79354677,  71.57285483,  66.97722731,\n",
       "        73.38714288,  79.04050857,  93.86185901,  76.74577813,\n",
       "        77.57550391,  74.25554084,  55.81228785,  74.73486125,\n",
       "        75.6023021 ,  99.63242112,  73.07639035,  78.01547342,\n",
       "        74.6528823 ,  63.31321962,  86.42822815,  82.51933033,\n",
       "        82.91031947,  65.90612545,  89.02794311,  60.98148937,\n",
       "        80.86857094,  96.90455626,  65.09463675,  69.3370227 ,\n",
       "        75.99651365,  69.96524346,  59.49336569,  75.68562975,\n",
       "        64.37696286,  79.73592431,  65.80575766,  90.49934405,\n",
       "        67.16746708,  71.77938484,  83.13517217,  62.69135684,\n",
       "        77.27459935,  88.07142754,  58.92516765,  76.84633859,\n",
       "        77.59882794,  82.81822872,  62.63049289,  61.79543387,\n",
       "        80.21941566,  77.96984673,  77.5049285 ,  78.46448209,\n",
       "        68.19975278,  77.32253697,  77.93072473,  67.85648582,\n",
       "        93.65774511,  79.73832921,  63.08696503,  81.56553609,\n",
       "        65.2531833 ,  82.87084604,  86.58595579,  66.79317682,\n",
       "        84.63376129,  79.12780927,  83.2206016 ,  93.96792983,\n",
       "        72.54611884,  67.46263836,  66.1048557 ,  66.84189715,\n",
       "        74.22898291,  78.41151975,  77.76690799,  83.27183249,\n",
       "        75.13001892,  89.53534077,  72.35343167, 102.20169167,\n",
       "        81.25667348,  66.42842444,  64.29107502,  79.82472415,\n",
       "        72.76537215,  82.14000494,  79.73237625,  74.27171087,\n",
       "        66.53206282,  59.85152775,  70.53485048,  83.56398794,\n",
       "        77.14093744,  62.54261221,  76.73180926,  78.8531738 ,\n",
       "        66.16142564,  76.53725106,  75.58208718,  63.57029702])"
      ]
     },
     "execution_count": 94,
     "metadata": {},
     "output_type": "execute_result"
    }
   ],
   "source": [
    "experimental_group"
   ]
  },
  {
   "cell_type": "code",
   "execution_count": 95,
   "id": "19d744cb-46e1-411c-b880-44ab56af60fa",
   "metadata": {},
   "outputs": [],
   "source": [
    "# Perform two-sample t-test\n",
    "t_statistic, p_value = ttest_ind(control_group, experimental_group)"
   ]
  },
  {
   "cell_type": "code",
   "execution_count": 96,
   "id": "c36f0858-85e1-4145-99e0-84f96e1f2e54",
   "metadata": {},
   "outputs": [
    {
     "name": "stdout",
     "output_type": "stream",
     "text": [
      "T-statistic: -4.754695943505281\n",
      "P-value: 3.819135262679478e-06\n"
     ]
    }
   ],
   "source": [
    "# Display the results of the t-test\n",
    "print(f\"T-statistic: {t_statistic}\")\n",
    "print(f\"P-value: {p_value}\")"
   ]
  },
  {
   "cell_type": "code",
   "execution_count": 97,
   "id": "ca8f563d-91fa-4ebb-ba8a-d3ac4f9c58c0",
   "metadata": {},
   "outputs": [
    {
     "name": "stdout",
     "output_type": "stream",
     "text": [
      "The two-sample t-test is statistically significant.\n",
      "There is a significant difference in test scores between the control and experimental groups.\n"
     ]
    }
   ],
   "source": [
    "# Interpret the results of the t-test\n",
    "alpha = 0.05\n",
    "if p_value < alpha:\n",
    "    print(\"The two-sample t-test is statistically significant.\")\n",
    "    print(\"There is a significant difference in test scores between the control and experimental groups.\")\n",
    "else:\n",
    "    print(\"The two-sample t-test is not statistically significant.\")\n",
    "    print(\"There is not enough evidence to conclude a significant difference in test scores between the groups.\")"
   ]
  },
  {
   "cell_type": "code",
   "execution_count": 98,
   "id": "b60d1375-f279-460a-99fa-9106ab323ffe",
   "metadata": {},
   "outputs": [
    {
     "name": "stdout",
     "output_type": "stream",
     "text": [
      "  Multiple Comparison of Means - Tukey HSD, FWER=0.05   \n",
      "========================================================\n",
      " group1    group2    meandiff p-adj lower  upper  reject\n",
      "--------------------------------------------------------\n",
      "Control Experimental   6.2615   0.0 3.6645 8.8585   True\n",
      "--------------------------------------------------------\n"
     ]
    }
   ],
   "source": [
    "# Perform post-hoc test (Tukey's HSD) if the t-test is significant\n",
    "if p_value < alpha:\n",
    "    # Combine data for post-hoc test\n",
    "    all_data = np.concatenate([control_group, experimental_group])\n",
    "    \n",
    "    # Create group labels\n",
    "    group_labels = ['Control'] * 100 + ['Experimental'] * 100\n",
    "    \n",
    "    # Perform Tukey's HSD post-hoc test\n",
    "    tukey_results = pairwise_tukeyhsd(all_data, group_labels)\n",
    "\n",
    "    # Display the results of the post-hoc test\n",
    "    print(tukey_results.summary())"
   ]
  },
  {
   "cell_type": "code",
   "execution_count": null,
   "id": "4fbafa10-b39f-476c-8cca-fb4af79cb141",
   "metadata": {},
   "outputs": [],
   "source": [
    "Q12. A researcher wants to know if there are any significant differences in the average daily sales of three\n",
    "retail stores: Store A, Store B, and Store C. They randomly select 30 days and record the sales for each store\n",
    "on those days. Conduct a repeated measures ANOVA using Python to determine if there are any significant differences in sales between the three stores. If the results are significant, follow up with a post-\n",
    "hoc test to determine which store(s) differ significantly from each other."
   ]
  },
  {
   "cell_type": "code",
   "execution_count": 99,
   "id": "96af7370-af58-4bf5-b8f4-4e481982621f",
   "metadata": {},
   "outputs": [],
   "source": [
    "import numpy as np\n",
    "from scipy.stats import f_oneway\n",
    "import statsmodels.api as sm\n",
    "from statsmodels.stats.multicomp import pairwise_tukeyhsd"
   ]
  },
  {
   "cell_type": "code",
   "execution_count": 100,
   "id": "af01877f-8dc2-4ad2-ac98-379e5ce17ec8",
   "metadata": {},
   "outputs": [],
   "source": [
    "# Set a random seed for reproducibility\n",
    "np.random.seed(42)"
   ]
  },
  {
   "cell_type": "code",
   "execution_count": 101,
   "id": "b8b9daa3-0d85-45e7-930e-6507ba867285",
   "metadata": {},
   "outputs": [],
   "source": [
    "# Generate example daily sales data \n",
    "sales_store_A = np.random.normal(loc=500, scale=50, size=30)\n",
    "sales_store_B = np.random.normal(loc=550, scale=50, size=30)\n",
    "sales_store_C = np.random.normal(loc=600, scale=50, size=30)"
   ]
  },
  {
   "cell_type": "code",
   "execution_count": 102,
   "id": "85103b41-051b-45ca-8be7-45b2f0646543",
   "metadata": {},
   "outputs": [
    {
     "data": {
      "text/plain": [
       "array([524.83570765, 493.08678494, 532.38442691, 576.15149282,\n",
       "       488.29233126, 488.29315215, 578.96064078, 538.37173646,\n",
       "       476.5262807 , 527.12800218, 476.82911536, 476.71351232,\n",
       "       512.09811358, 404.33598777, 413.75410837, 471.88562354,\n",
       "       449.35844398, 515.71236663, 454.59879622, 429.38481493,\n",
       "       573.28243845, 488.71118498, 503.37641023, 428.76259069,\n",
       "       472.78086377, 505.54612949, 442.45032113, 518.78490092,\n",
       "       469.9680655 , 485.41531251])"
      ]
     },
     "execution_count": 102,
     "metadata": {},
     "output_type": "execute_result"
    }
   ],
   "source": [
    "sales_store_A"
   ]
  },
  {
   "cell_type": "code",
   "execution_count": 103,
   "id": "ce4f47f9-16f9-4e7d-b905-dc486ab27d6f",
   "metadata": {},
   "outputs": [
    {
     "data": {
      "text/plain": [
       "array([519.91466939, 642.61390923, 549.32513876, 497.11445355,\n",
       "       591.12724561, 488.9578175 , 560.44317975, 452.01649381,\n",
       "       483.59069756, 559.84306179, 586.923329  , 558.56841406,\n",
       "       544.21758588, 534.94481522, 476.07390048, 514.00778958,\n",
       "       526.96806145, 602.85611131, 567.18091448, 461.84799223,\n",
       "       566.20419847, 530.74588598, 516.15389998, 580.58381444,\n",
       "       601.54997612, 596.56400596, 508.03912384, 534.53938121,\n",
       "       566.56317157, 598.77725636])"
      ]
     },
     "execution_count": 103,
     "metadata": {},
     "output_type": "execute_result"
    }
   ],
   "source": [
    "sales_store_B"
   ]
  },
  {
   "cell_type": "code",
   "execution_count": 104,
   "id": "57135f9a-268a-46fd-a86f-dd92ed196a54",
   "metadata": {},
   "outputs": [
    {
     "data": {
      "text/plain": [
       "array([576.04128811, 590.71705117, 544.6832513 , 540.1896688 ,\n",
       "       640.62629112, 667.81200143, 596.39949392, 650.17664489,\n",
       "       618.08180125, 567.74401227, 618.06978028, 676.90182832,\n",
       "       598.20869804, 678.23218279, 469.0127448 , 641.09512522,\n",
       "       604.35235341, 585.04963248, 604.58803883, 500.62155427,\n",
       "       589.01640561, 617.85562858, 673.89470224, 574.08648909,\n",
       "       559.57531986, 574.91214782, 645.77010589, 616.43755548,\n",
       "       573.51198981, 625.66337166])"
      ]
     },
     "execution_count": 104,
     "metadata": {},
     "output_type": "execute_result"
    }
   ],
   "source": [
    "sales_store_C"
   ]
  },
  {
   "cell_type": "code",
   "execution_count": 105,
   "id": "2a36c302-5f7a-4267-8100-84838ffc9e29",
   "metadata": {},
   "outputs": [],
   "source": [
    "# Combine the data\n",
    "all_sales_data = np.concatenate([sales_store_A, sales_store_B, sales_store_C])"
   ]
  },
  {
   "cell_type": "code",
   "execution_count": 106,
   "id": "7d5bc7e8-65c8-4621-937a-3cdec26b23a8",
   "metadata": {},
   "outputs": [
    {
     "data": {
      "text/plain": [
       "array([524.83570765, 493.08678494, 532.38442691, 576.15149282,\n",
       "       488.29233126, 488.29315215, 578.96064078, 538.37173646,\n",
       "       476.5262807 , 527.12800218, 476.82911536, 476.71351232,\n",
       "       512.09811358, 404.33598777, 413.75410837, 471.88562354,\n",
       "       449.35844398, 515.71236663, 454.59879622, 429.38481493,\n",
       "       573.28243845, 488.71118498, 503.37641023, 428.76259069,\n",
       "       472.78086377, 505.54612949, 442.45032113, 518.78490092,\n",
       "       469.9680655 , 485.41531251, 519.91466939, 642.61390923,\n",
       "       549.32513876, 497.11445355, 591.12724561, 488.9578175 ,\n",
       "       560.44317975, 452.01649381, 483.59069756, 559.84306179,\n",
       "       586.923329  , 558.56841406, 544.21758588, 534.94481522,\n",
       "       476.07390048, 514.00778958, 526.96806145, 602.85611131,\n",
       "       567.18091448, 461.84799223, 566.20419847, 530.74588598,\n",
       "       516.15389998, 580.58381444, 601.54997612, 596.56400596,\n",
       "       508.03912384, 534.53938121, 566.56317157, 598.77725636,\n",
       "       576.04128811, 590.71705117, 544.6832513 , 540.1896688 ,\n",
       "       640.62629112, 667.81200143, 596.39949392, 650.17664489,\n",
       "       618.08180125, 567.74401227, 618.06978028, 676.90182832,\n",
       "       598.20869804, 678.23218279, 469.0127448 , 641.09512522,\n",
       "       604.35235341, 585.04963248, 604.58803883, 500.62155427,\n",
       "       589.01640561, 617.85562858, 673.89470224, 574.08648909,\n",
       "       559.57531986, 574.91214782, 645.77010589, 616.43755548,\n",
       "       573.51198981, 625.66337166])"
      ]
     },
     "execution_count": 106,
     "metadata": {},
     "output_type": "execute_result"
    }
   ],
   "source": [
    "all_sales_data"
   ]
  },
  {
   "cell_type": "code",
   "execution_count": 107,
   "id": "acb7a382-f756-4a1d-a71e-f6340f1f5438",
   "metadata": {},
   "outputs": [],
   "source": [
    "\n",
    "# Create group labels\n",
    "group_labels = ['Store A'] * 30 + ['Store B'] * 30 + ['Store C'] * 30"
   ]
  },
  {
   "cell_type": "code",
   "execution_count": 108,
   "id": "4044823b-016b-446a-9e47-16725a5ee3ce",
   "metadata": {},
   "outputs": [
    {
     "data": {
      "text/plain": [
       "['Store A',\n",
       " 'Store A',\n",
       " 'Store A',\n",
       " 'Store A',\n",
       " 'Store A',\n",
       " 'Store A',\n",
       " 'Store A',\n",
       " 'Store A',\n",
       " 'Store A',\n",
       " 'Store A',\n",
       " 'Store A',\n",
       " 'Store A',\n",
       " 'Store A',\n",
       " 'Store A',\n",
       " 'Store A',\n",
       " 'Store A',\n",
       " 'Store A',\n",
       " 'Store A',\n",
       " 'Store A',\n",
       " 'Store A',\n",
       " 'Store A',\n",
       " 'Store A',\n",
       " 'Store A',\n",
       " 'Store A',\n",
       " 'Store A',\n",
       " 'Store A',\n",
       " 'Store A',\n",
       " 'Store A',\n",
       " 'Store A',\n",
       " 'Store A',\n",
       " 'Store B',\n",
       " 'Store B',\n",
       " 'Store B',\n",
       " 'Store B',\n",
       " 'Store B',\n",
       " 'Store B',\n",
       " 'Store B',\n",
       " 'Store B',\n",
       " 'Store B',\n",
       " 'Store B',\n",
       " 'Store B',\n",
       " 'Store B',\n",
       " 'Store B',\n",
       " 'Store B',\n",
       " 'Store B',\n",
       " 'Store B',\n",
       " 'Store B',\n",
       " 'Store B',\n",
       " 'Store B',\n",
       " 'Store B',\n",
       " 'Store B',\n",
       " 'Store B',\n",
       " 'Store B',\n",
       " 'Store B',\n",
       " 'Store B',\n",
       " 'Store B',\n",
       " 'Store B',\n",
       " 'Store B',\n",
       " 'Store B',\n",
       " 'Store B',\n",
       " 'Store C',\n",
       " 'Store C',\n",
       " 'Store C',\n",
       " 'Store C',\n",
       " 'Store C',\n",
       " 'Store C',\n",
       " 'Store C',\n",
       " 'Store C',\n",
       " 'Store C',\n",
       " 'Store C',\n",
       " 'Store C',\n",
       " 'Store C',\n",
       " 'Store C',\n",
       " 'Store C',\n",
       " 'Store C',\n",
       " 'Store C',\n",
       " 'Store C',\n",
       " 'Store C',\n",
       " 'Store C',\n",
       " 'Store C',\n",
       " 'Store C',\n",
       " 'Store C',\n",
       " 'Store C',\n",
       " 'Store C',\n",
       " 'Store C',\n",
       " 'Store C',\n",
       " 'Store C',\n",
       " 'Store C',\n",
       " 'Store C',\n",
       " 'Store C']"
      ]
     },
     "execution_count": 108,
     "metadata": {},
     "output_type": "execute_result"
    }
   ],
   "source": [
    "group_labels"
   ]
  },
  {
   "cell_type": "code",
   "execution_count": 109,
   "id": "922ebb2f-fc2c-4342-a0f5-b7f01656c83c",
   "metadata": {},
   "outputs": [],
   "source": [
    "# Perform one-way ANOVA\n",
    "f_statistic, p_value = f_oneway(sales_store_A, sales_store_B, sales_store_C)"
   ]
  },
  {
   "cell_type": "code",
   "execution_count": 110,
   "id": "9d45b4d5-916f-4c38-a6dd-13d456b6b9a6",
   "metadata": {},
   "outputs": [
    {
     "name": "stdout",
     "output_type": "stream",
     "text": [
      "F-statistic: 40.97563597701801\n",
      "P-value: 2.893768135071658e-13\n"
     ]
    }
   ],
   "source": [
    "# Display the results of the ANOVA\n",
    "print(f\"F-statistic: {f_statistic}\")\n",
    "print(f\"P-value: {p_value}\")"
   ]
  },
  {
   "cell_type": "code",
   "execution_count": 111,
   "id": "222a8ede-d1b5-4439-b009-82c9be91154d",
   "metadata": {},
   "outputs": [
    {
     "name": "stdout",
     "output_type": "stream",
     "text": [
      "The one-way ANOVA is statistically significant.\n",
      "There are significant differences in daily sales between at least two stores.\n"
     ]
    }
   ],
   "source": [
    "# Interpret the results of the ANOVA\n",
    "alpha = 0.05\n",
    "if p_value < alpha:\n",
    "    print(\"The one-way ANOVA is statistically significant.\")\n",
    "    print(\"There are significant differences in daily sales between at least two stores.\")\n",
    "else:\n",
    "    print(\"The one-way ANOVA is not statistically significant.\")\n",
    "    print(\"There is not enough evidence to conclude significant differences in daily sales between the stores.\")"
   ]
  },
  {
   "cell_type": "code",
   "execution_count": 112,
   "id": "3ab18787-4004-44e6-9077-22a21336cbe9",
   "metadata": {},
   "outputs": [
    {
     "name": "stdout",
     "output_type": "stream",
     "text": [
      "  Multiple Comparison of Means - Tukey HSD, FWER=0.05  \n",
      "=======================================================\n",
      " group1  group2 meandiff p-adj   lower   upper   reject\n",
      "-------------------------------------------------------\n",
      "Store A Store B  53.3492 0.0001 24.3572  82.3413   True\n",
      "Store A Store C 110.0516    0.0 81.0595 139.0437   True\n",
      "Store B Store C  56.7024    0.0 27.7103  85.6944   True\n",
      "-------------------------------------------------------\n"
     ]
    }
   ],
   "source": [
    "# Perform post-hoc test (Tukey's HSD) if the ANOVA is significant\n",
    "if p_value < alpha:\n",
    "    # Perform Tukey's HSD post-hoc test\n",
    "    tukey_results = pairwise_tukeyhsd(all_sales_data, group_labels)\n",
    "\n",
    "    # Display the results of the post-hoc test\n",
    "    print(tukey_results.summary())"
   ]
  },
  {
   "cell_type": "code",
   "execution_count": null,
   "id": "2c1d71e7-c362-44b6-9530-8e829e06a63c",
   "metadata": {},
   "outputs": [],
   "source": []
  }
 ],
 "metadata": {
  "kernelspec": {
   "display_name": "Python 3 (ipykernel)",
   "language": "python",
   "name": "python3"
  },
  "language_info": {
   "codemirror_mode": {
    "name": "ipython",
    "version": 3
   },
   "file_extension": ".py",
   "mimetype": "text/x-python",
   "name": "python",
   "nbconvert_exporter": "python",
   "pygments_lexer": "ipython3",
   "version": "3.10.8"
  }
 },
 "nbformat": 4,
 "nbformat_minor": 5
}
